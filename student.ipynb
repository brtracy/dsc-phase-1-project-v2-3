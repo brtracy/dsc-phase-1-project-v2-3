{
 "cells": [
  {
   "cell_type": "markdown",
   "id": "9a19dd42",
   "metadata": {},
   "source": [
    "![mslogo](images/microsoft_logo.jpg)"
   ]
  },
  {
   "cell_type": "markdown",
   "id": "65b09d3a",
   "metadata": {
    "heading_collapsed": true
   },
   "source": [
    "# Microsoft Film Studio Recommendations\n",
    "\n",
    "**Author:** Brian Tracy\n",
    "***"
   ]
  },
  {
   "cell_type": "markdown",
   "id": "63ec6a36",
   "metadata": {
    "hidden": true
   },
   "source": [
    "## Overview\n",
    "***"
   ]
  },
  {
   "cell_type": "markdown",
   "id": "10627c56",
   "metadata": {
    "hidden": true
   },
   "source": [
    "Newly created Microsoft Film Studio is looking for recommendations on what their first film should be. Analysis of film metadata from IMDB and financial data from The Numbers will be used to make recommendations to the studio."
   ]
  },
  {
   "cell_type": "markdown",
   "id": "0f324b4d",
   "metadata": {
    "hidden": true
   },
   "source": [
    "## Business Problem\n",
    "***"
   ]
  },
  {
   "cell_type": "markdown",
   "id": "39837ccc",
   "metadata": {
    "hidden": true
   },
   "source": [
    "Microsoft, one of the big five tech companies in the world, is the last to make the foray into original video content production. While the company may know almost everything about making software people will use, they don't know much about making films people will watch. What they lack in knowledge they make up for in resources, and now they want to throw their weight against the box office and make a successful movie.\n",
    "\n",
    "\n",
    "Questions being considered:\n",
    "\n",
    "- What genre of films has been most financially successful?\n",
    "- When should the film be released?\n",
    "- How much should the budget be?\n",
    "- Are there any directors that stand out in that genre?\n",
    "- Are any particular actors within that genre more successful?"
   ]
  },
  {
   "cell_type": "markdown",
   "id": "44a4b731",
   "metadata": {
    "heading_collapsed": true,
    "hidden": true
   },
   "source": [
    "## Data Understanding\n",
    "***"
   ]
  },
  {
   "cell_type": "markdown",
   "id": "8ede9bd5",
   "metadata": {
    "hidden": true
   },
   "source": [
    "IMDB, the Internet Movie Database, is one of the largest sites for movie news and information. They provide data such as ratings, film titles, genres, crew and principals, and name data. The data files provided for the project are from 2019.\n",
    "\n",
    "The Numbers is a website for movie financial data. They provide information on production costs and gross sales. The data files provided for the project are also from 2019."
   ]
  },
  {
   "cell_type": "markdown",
   "id": "41aa9603",
   "metadata": {
    "heading_collapsed": true
   },
   "source": [
    "# Set up DataFrames"
   ]
  },
  {
   "cell_type": "markdown",
   "id": "121733d7",
   "metadata": {
    "heading_collapsed": true,
    "hidden": true
   },
   "source": [
    "## Loading datasets"
   ]
  },
  {
   "cell_type": "markdown",
   "id": "bc5315ca",
   "metadata": {
    "hidden": true
   },
   "source": [
    "We are importing pandas, numpy, seaborn, and matplotlib, along with the magic line to print plots in our jupyter notebook.\n",
    "\n",
    "The 3 main datasets we are using are:\n",
    "- title.basics.csv\n",
    "- title.ratings.csv\n",
    "- tn.movie_budgets.csv\n",
    "\n",
    "The first two datasets contain movie name and rating information, as well as unique IDs to get cast and crew names from the additional datasets. The tn.movie_budgets dataset does not share this identifier, but it has the financial data we need for the project.\n",
    "\n",
    "There are 3 additional datasets to use:\n",
    "- name.basics.csv\n",
    "- title.crew.csv\n",
    "- title.principals.csv\n",
    "\n",
    "The crew and principals datasets link to the main datasets through a tconst feature. The name.basics will then provide name and biographical data based on a different, shared unique ID."
   ]
  },
  {
   "cell_type": "code",
   "execution_count": 1,
   "id": "381cd676",
   "metadata": {
    "hidden": true
   },
   "outputs": [],
   "source": [
    "import pandas as pd\n",
    "import numpy as np\n",
    "import seaborn as sns\n",
    "import matplotlib as mpl\n",
    "import matplotlib.pyplot as plt\n",
    "%matplotlib inline\n",
    "\n",
    "# load the main title datasets\n",
    "title_basics = pd.read_csv('Data/title.basics.csv')\n",
    "title_ratings = pd.read_csv('Data/title.ratings.csv')\n",
    "\n",
    "# make a new dataframe joining the basic info with ratings\n",
    "movie_ratings = pd.merge(title_basics, title_ratings, on='tconst')\n",
    "\n",
    "# load the movie budget dataset\n",
    "movie_budget = pd.read_csv('Data/tn.movie_budgets.csv')\n",
    "\n",
    "# load the additional datasets for cast/crew\n",
    "name_info = pd.read_csv('data/name.basics.csv')\n",
    "crew = pd.read_csv('data/title.crew.csv')\n",
    "principals = pd.read_csv('data/title.principals.csv')"
   ]
  },
  {
   "cell_type": "markdown",
   "id": "cc68481a",
   "metadata": {
    "hidden": true
   },
   "source": [
    "**This cell will turn off the pink warning messages for final submission if we still have any**"
   ]
  },
  {
   "cell_type": "code",
   "execution_count": 2,
   "id": "d9ea2983",
   "metadata": {
    "hidden": true
   },
   "outputs": [],
   "source": [
    "# import warnings\n",
    "# warnings.filterwarnings('ignore')"
   ]
  },
  {
   "cell_type": "markdown",
   "id": "70760a6c",
   "metadata": {
    "heading_collapsed": true,
    "hidden": true
   },
   "source": [
    "## Checking null values"
   ]
  },
  {
   "cell_type": "code",
   "execution_count": 3,
   "id": "d325335a",
   "metadata": {
    "hidden": true
   },
   "outputs": [
    {
     "name": "stdout",
     "output_type": "stream",
     "text": [
      "Total movie_ratings prior to cleaning: 73856\n"
     ]
    }
   ],
   "source": [
    "print(\"Total movie_ratings prior to cleaning:\", len(movie_ratings))"
   ]
  },
  {
   "cell_type": "code",
   "execution_count": 4,
   "id": "6817d26d",
   "metadata": {
    "hidden": true,
    "scrolled": true
   },
   "outputs": [
    {
     "name": "stdout",
     "output_type": "stream",
     "text": [
      "tconst - 0\n",
      "primary_title - 0\n",
      "original_title - 0\n",
      "start_year - 0\n",
      "runtime_minutes - 7620\n",
      "genres - 804\n",
      "averagerating - 0\n",
      "numvotes - 0\n"
     ]
    }
   ],
   "source": [
    "for col in movie_ratings.columns:\n",
    "    print(col, \"-\", movie_ratings[col].isna().sum())"
   ]
  },
  {
   "cell_type": "markdown",
   "id": "3fea6aab",
   "metadata": {
    "hidden": true
   },
   "source": [
    "No plans to use runtime_minutes for analysis, so we will drop the whole column\n",
    "\n",
    "Of the 73,856 records, only 804 do not have a genre. Analysis of genre is our main question, so we will just drop the rows that contain NaNs as they \n",
    "constitute approximately 1% of our dataset."
   ]
  },
  {
   "cell_type": "code",
   "execution_count": 5,
   "id": "908d9b25",
   "metadata": {
    "hidden": true
   },
   "outputs": [
    {
     "name": "stdout",
     "output_type": "stream",
     "text": [
      "Total movie_ratings after cleaning: 73052\n",
      "Total movie_budget prior to cleaning: 5782\n"
     ]
    }
   ],
   "source": [
    "movie_ratings.drop('runtime_minutes', axis=1, inplace=True)\n",
    "movie_ratings.dropna(inplace=True)\n",
    "print(\"Total movie_ratings after cleaning:\", len(movie_ratings))\n",
    "print(\"Total movie_budget prior to cleaning:\", len(movie_budget))"
   ]
  },
  {
   "cell_type": "code",
   "execution_count": 6,
   "id": "d96181ad",
   "metadata": {
    "hidden": true
   },
   "outputs": [
    {
     "name": "stdout",
     "output_type": "stream",
     "text": [
      "id - 0\n",
      "release_date - 0\n",
      "movie - 0\n",
      "production_budget - 0\n",
      "domestic_gross - 0\n",
      "worldwide_gross - 0\n"
     ]
    }
   ],
   "source": [
    "for col in movie_budget.columns:\n",
    "    print(col, \"-\", movie_budget[col].isna().sum())"
   ]
  },
  {
   "cell_type": "markdown",
   "id": "7e4b0cc1",
   "metadata": {
    "hidden": true
   },
   "source": [
    "movie_budget has no NaNs! No cleaning necessary, so we move on to correcting datatypes"
   ]
  },
  {
   "cell_type": "markdown",
   "id": "e4f1cc9e",
   "metadata": {
    "heading_collapsed": true,
    "hidden": true
   },
   "source": [
    "## Correcting datatypes"
   ]
  },
  {
   "cell_type": "markdown",
   "id": "b006f38c",
   "metadata": {
    "hidden": true
   },
   "source": [
    "In movie_ratings the genres are strings that are multiple genres, we need to make them into lists of genres for analysis"
   ]
  },
  {
   "cell_type": "code",
   "execution_count": 7,
   "id": "38a4d7b9",
   "metadata": {
    "hidden": true
   },
   "outputs": [],
   "source": [
    "movie_ratings['genres'] = movie_ratings['genres'].map(lambda x: x.split(','))"
   ]
  },
  {
   "cell_type": "markdown",
   "id": "3f6952e3",
   "metadata": {
    "hidden": true
   },
   "source": [
    "In movie_budget, the budget and two gross columns are objects, we need to fix that so they are int values for later analysis"
   ]
  },
  {
   "cell_type": "code",
   "execution_count": 8,
   "id": "23a21e20",
   "metadata": {
    "hidden": true
   },
   "outputs": [],
   "source": [
    "movie_budget['production_budget'] = movie_budget['production_budget'].map(\n",
    "                 lambda x: int(x.translate({ord('$'): None, ord(','): None})))\n",
    "movie_budget['domestic_gross'] = movie_budget['domestic_gross'].map(\n",
    "                 lambda x: int(x.translate({ord('$'): None, ord(','): None})))\n",
    "movie_budget['worldwide_gross'] = movie_budget['worldwide_gross'].map(\n",
    "                 lambda x: int(x.translate({ord('$'): None, ord(','): None})))"
   ]
  },
  {
   "cell_type": "code",
   "execution_count": 9,
   "id": "4d960f86",
   "metadata": {
    "hidden": true
   },
   "outputs": [
    {
     "name": "stdout",
     "output_type": "stream",
     "text": [
      "<class 'pandas.core.frame.DataFrame'>\n",
      "Int64Index: 73052 entries, 0 to 73855\n",
      "Data columns (total 7 columns):\n",
      " #   Column          Non-Null Count  Dtype  \n",
      "---  ------          --------------  -----  \n",
      " 0   tconst          73052 non-null  object \n",
      " 1   primary_title   73052 non-null  object \n",
      " 2   original_title  73052 non-null  object \n",
      " 3   start_year      73052 non-null  int64  \n",
      " 4   genres          73052 non-null  object \n",
      " 5   averagerating   73052 non-null  float64\n",
      " 6   numvotes        73052 non-null  int64  \n",
      "dtypes: float64(1), int64(2), object(4)\n",
      "memory usage: 4.5+ MB\n"
     ]
    },
    {
     "data": {
      "text/plain": [
       "None"
      ]
     },
     "metadata": {},
     "output_type": "display_data"
    },
    {
     "name": "stdout",
     "output_type": "stream",
     "text": [
      "<class 'pandas.core.frame.DataFrame'>\n",
      "RangeIndex: 5782 entries, 0 to 5781\n",
      "Data columns (total 6 columns):\n",
      " #   Column             Non-Null Count  Dtype \n",
      "---  ------             --------------  ----- \n",
      " 0   id                 5782 non-null   int64 \n",
      " 1   release_date       5782 non-null   object\n",
      " 2   movie              5782 non-null   object\n",
      " 3   production_budget  5782 non-null   int64 \n",
      " 4   domestic_gross     5782 non-null   int64 \n",
      " 5   worldwide_gross    5782 non-null   int64 \n",
      "dtypes: int64(4), object(2)\n",
      "memory usage: 271.2+ KB\n"
     ]
    }
   ],
   "source": [
    "display(movie_ratings.info())\n",
    "movie_budget.info()"
   ]
  },
  {
   "cell_type": "markdown",
   "id": "9495fd45",
   "metadata": {
    "heading_collapsed": true,
    "hidden": true
   },
   "source": [
    "##  EDA"
   ]
  },
  {
   "cell_type": "markdown",
   "id": "fbd92a1e",
   "metadata": {
    "hidden": true
   },
   "source": [
    "Our question is based on recent films, so we can reduce our two dataframes to just include films from the last 10 years. The datasets provided are from 2019, so the range will be from 2009 to 2019."
   ]
  },
  {
   "cell_type": "code",
   "execution_count": 10,
   "id": "538d63b0",
   "metadata": {
    "hidden": true,
    "scrolled": true
   },
   "outputs": [
    {
     "data": {
      "text/plain": [
       "Int64Index([2010, 2011, 2012, 2013, 2014, 2015, 2016, 2017, 2018, 2019], dtype='int64')"
      ]
     },
     "execution_count": 10,
     "metadata": {},
     "output_type": "execute_result"
    }
   ],
   "source": [
    "movie_ratings['start_year'].value_counts().index.sort_values()"
   ]
  },
  {
   "cell_type": "markdown",
   "id": "c47770fe",
   "metadata": {
    "hidden": true
   },
   "source": [
    "Looks like our movie_ratings doesn't have any year prior to 2010 represented, so nothing needed here.\n",
    "***"
   ]
  },
  {
   "cell_type": "markdown",
   "id": "8b604f25",
   "metadata": {
    "hidden": true
   },
   "source": [
    "movie_budget doesn't have a clean years column, so we need to make one"
   ]
  },
  {
   "cell_type": "code",
   "execution_count": 11,
   "id": "11a1eb8e",
   "metadata": {
    "hidden": true
   },
   "outputs": [],
   "source": [
    "# convert release_date column to datetime dtype\n",
    "movie_budget['release_date'] = pd.to_datetime(movie_budget['release_date'])\n",
    "\n",
    "#create a new column \"year\" that contains an int of just the year\n",
    "movie_budget['year'] = movie_budget['release_date'].map(lambda x: x.year)"
   ]
  },
  {
   "cell_type": "code",
   "execution_count": 12,
   "id": "6617362b",
   "metadata": {
    "hidden": true
   },
   "outputs": [
    {
     "data": {
      "text/plain": [
       "Int64Index([1915, 1916, 1920, 1925, 1927, 1929, 1930, 1931, 1933, 1934, 1935,\n",
       "            1936, 1937, 1938, 1939, 1940, 1941, 1942, 1943, 1944, 1945, 1946,\n",
       "            1947, 1948, 1949, 1950, 1951, 1952, 1953, 1954, 1955, 1956, 1957,\n",
       "            1958, 1959, 1960, 1961, 1962, 1963, 1964, 1965, 1966, 1967, 1968,\n",
       "            1969, 1970, 1971, 1972, 1973, 1974, 1975, 1976, 1977, 1978, 1979,\n",
       "            1980, 1981, 1982, 1983, 1984, 1985, 1986, 1987, 1988, 1989, 1990,\n",
       "            1991, 1992, 1993, 1994, 1995, 1996, 1997, 1998, 1999, 2000, 2001,\n",
       "            2002, 2003, 2004, 2005, 2006, 2007, 2008, 2009, 2010, 2011, 2012,\n",
       "            2013, 2014, 2015, 2016, 2017, 2018, 2019, 2020],\n",
       "           dtype='int64')"
      ]
     },
     "execution_count": 12,
     "metadata": {},
     "output_type": "execute_result"
    }
   ],
   "source": [
    "movie_budget['year'].value_counts().index.sort_values()"
   ]
  },
  {
   "cell_type": "markdown",
   "id": "97aa8209",
   "metadata": {
    "hidden": true
   },
   "source": [
    "We have lots of films prior to our cutoff year of 2009, so we can filter that out now to make merging easier. We are actually going to filter on 2010 because we have no data in movie_ratings prior to that year."
   ]
  },
  {
   "cell_type": "code",
   "execution_count": 13,
   "id": "6ed5f987",
   "metadata": {
    "hidden": true,
    "scrolled": true
   },
   "outputs": [
    {
     "data": {
      "text/html": [
       "<div>\n",
       "<style scoped>\n",
       "    .dataframe tbody tr th:only-of-type {\n",
       "        vertical-align: middle;\n",
       "    }\n",
       "\n",
       "    .dataframe tbody tr th {\n",
       "        vertical-align: top;\n",
       "    }\n",
       "\n",
       "    .dataframe thead th {\n",
       "        text-align: right;\n",
       "    }\n",
       "</style>\n",
       "<table border=\"1\" class=\"dataframe\">\n",
       "  <thead>\n",
       "    <tr style=\"text-align: right;\">\n",
       "      <th></th>\n",
       "      <th>release_date</th>\n",
       "      <th>movie</th>\n",
       "      <th>production_budget</th>\n",
       "      <th>domestic_gross</th>\n",
       "      <th>worldwide_gross</th>\n",
       "      <th>year</th>\n",
       "    </tr>\n",
       "  </thead>\n",
       "  <tbody>\n",
       "    <tr>\n",
       "      <th>0</th>\n",
       "      <td>2011-05-20</td>\n",
       "      <td>Pirates of the Caribbean: On Stranger Tides</td>\n",
       "      <td>410600000</td>\n",
       "      <td>241063875</td>\n",
       "      <td>1045663875</td>\n",
       "      <td>2011</td>\n",
       "    </tr>\n",
       "    <tr>\n",
       "      <th>1</th>\n",
       "      <td>2019-06-07</td>\n",
       "      <td>Dark Phoenix</td>\n",
       "      <td>350000000</td>\n",
       "      <td>42762350</td>\n",
       "      <td>149762350</td>\n",
       "      <td>2019</td>\n",
       "    </tr>\n",
       "    <tr>\n",
       "      <th>2</th>\n",
       "      <td>2015-05-01</td>\n",
       "      <td>Avengers: Age of Ultron</td>\n",
       "      <td>330600000</td>\n",
       "      <td>459005868</td>\n",
       "      <td>1403013963</td>\n",
       "      <td>2015</td>\n",
       "    </tr>\n",
       "    <tr>\n",
       "      <th>3</th>\n",
       "      <td>2017-12-15</td>\n",
       "      <td>Star Wars Ep. VIII: The Last Jedi</td>\n",
       "      <td>317000000</td>\n",
       "      <td>620181382</td>\n",
       "      <td>1316721747</td>\n",
       "      <td>2017</td>\n",
       "    </tr>\n",
       "    <tr>\n",
       "      <th>4</th>\n",
       "      <td>2015-12-18</td>\n",
       "      <td>Star Wars Ep. VII: The Force Awakens</td>\n",
       "      <td>306000000</td>\n",
       "      <td>936662225</td>\n",
       "      <td>2053311220</td>\n",
       "      <td>2015</td>\n",
       "    </tr>\n",
       "    <tr>\n",
       "      <th>...</th>\n",
       "      <td>...</td>\n",
       "      <td>...</td>\n",
       "      <td>...</td>\n",
       "      <td>...</td>\n",
       "      <td>...</td>\n",
       "      <td>...</td>\n",
       "    </tr>\n",
       "    <tr>\n",
       "      <th>2189</th>\n",
       "      <td>2014-12-31</td>\n",
       "      <td>Stories of Our Lives</td>\n",
       "      <td>15000</td>\n",
       "      <td>0</td>\n",
       "      <td>0</td>\n",
       "      <td>2014</td>\n",
       "    </tr>\n",
       "    <tr>\n",
       "      <th>2190</th>\n",
       "      <td>2015-05-19</td>\n",
       "      <td>Family Motocross</td>\n",
       "      <td>10000</td>\n",
       "      <td>0</td>\n",
       "      <td>0</td>\n",
       "      <td>2015</td>\n",
       "    </tr>\n",
       "    <tr>\n",
       "      <th>2191</th>\n",
       "      <td>2012-01-13</td>\n",
       "      <td>Newlyweds</td>\n",
       "      <td>9000</td>\n",
       "      <td>4584</td>\n",
       "      <td>4584</td>\n",
       "      <td>2012</td>\n",
       "    </tr>\n",
       "    <tr>\n",
       "      <th>2192</th>\n",
       "      <td>2018-12-31</td>\n",
       "      <td>Red 11</td>\n",
       "      <td>7000</td>\n",
       "      <td>0</td>\n",
       "      <td>0</td>\n",
       "      <td>2018</td>\n",
       "    </tr>\n",
       "    <tr>\n",
       "      <th>2193</th>\n",
       "      <td>2015-09-29</td>\n",
       "      <td>A Plague So Pleasant</td>\n",
       "      <td>1400</td>\n",
       "      <td>0</td>\n",
       "      <td>0</td>\n",
       "      <td>2015</td>\n",
       "    </tr>\n",
       "  </tbody>\n",
       "</table>\n",
       "<p>2194 rows × 6 columns</p>\n",
       "</div>"
      ],
      "text/plain": [
       "     release_date                                        movie  \\\n",
       "0      2011-05-20  Pirates of the Caribbean: On Stranger Tides   \n",
       "1      2019-06-07                                 Dark Phoenix   \n",
       "2      2015-05-01                      Avengers: Age of Ultron   \n",
       "3      2017-12-15            Star Wars Ep. VIII: The Last Jedi   \n",
       "4      2015-12-18         Star Wars Ep. VII: The Force Awakens   \n",
       "...           ...                                          ...   \n",
       "2189   2014-12-31                         Stories of Our Lives   \n",
       "2190   2015-05-19                             Family Motocross   \n",
       "2191   2012-01-13                                    Newlyweds   \n",
       "2192   2018-12-31                                       Red 11   \n",
       "2193   2015-09-29                         A Plague So Pleasant   \n",
       "\n",
       "      production_budget  domestic_gross  worldwide_gross  year  \n",
       "0             410600000       241063875       1045663875  2011  \n",
       "1             350000000        42762350        149762350  2019  \n",
       "2             330600000       459005868       1403013963  2015  \n",
       "3             317000000       620181382       1316721747  2017  \n",
       "4             306000000       936662225       2053311220  2015  \n",
       "...                 ...             ...              ...   ...  \n",
       "2189              15000               0                0  2014  \n",
       "2190              10000               0                0  2015  \n",
       "2191               9000            4584             4584  2012  \n",
       "2192               7000               0                0  2018  \n",
       "2193               1400               0                0  2015  \n",
       "\n",
       "[2194 rows x 6 columns]"
      ]
     },
     "execution_count": 13,
     "metadata": {},
     "output_type": "execute_result"
    }
   ],
   "source": [
    "movie_budget = movie_budget[movie_budget['year'] >= 2010]\n",
    "movie_budget.reset_index(inplace=True)\n",
    "movie_budget.drop(['index', 'id'], axis=1, inplace=True)\n",
    "movie_budget"
   ]
  },
  {
   "cell_type": "markdown",
   "id": "ae499d01",
   "metadata": {
    "hidden": true
   },
   "source": [
    "We have reduced our movie_budget dataframe to 2194 entries\n",
    "***"
   ]
  },
  {
   "cell_type": "markdown",
   "id": "2cea0faf",
   "metadata": {
    "hidden": true
   },
   "source": [
    "Further looking at movie_budget, there are entries with $0 gross figures"
   ]
  },
  {
   "cell_type": "code",
   "execution_count": 14,
   "id": "b397f6d0",
   "metadata": {
    "hidden": true,
    "scrolled": false
   },
   "outputs": [
    {
     "name": "stdout",
     "output_type": "stream",
     "text": [
      "Total films with no domestic gross: 407\n",
      "Total films with no total gross: 272\n",
      "Total films only international gross: 135\n"
     ]
    }
   ],
   "source": [
    "zero_dom_gross = len(movie_budget[movie_budget.domestic_gross == 0])\n",
    "zero_tot_gross = len(movie_budget[(movie_budget.domestic_gross == 0) & (\n",
    "                                   movie_budget.worldwide_gross == 0)])\n",
    "inter_only = zero_dom_gross - zero_tot_gross\n",
    "\n",
    "print(f\"Total films with no domestic gross: {zero_dom_gross}\")\n",
    "print(f\"Total films with no total gross: {zero_tot_gross}\")\n",
    "print(f\"Total films only international gross: {inter_only}\")"
   ]
  },
  {
   "cell_type": "markdown",
   "id": "5ef486d7",
   "metadata": {
    "hidden": true
   },
   "source": [
    "Decided to drop all films with no domestic gross. It is likely that films with only international gross are made by foreign film studios for different markets. Analysis should be of domestic films."
   ]
  },
  {
   "cell_type": "code",
   "execution_count": 15,
   "id": "e828d12c",
   "metadata": {
    "hidden": true
   },
   "outputs": [
    {
     "data": {
      "text/html": [
       "<div>\n",
       "<style scoped>\n",
       "    .dataframe tbody tr th:only-of-type {\n",
       "        vertical-align: middle;\n",
       "    }\n",
       "\n",
       "    .dataframe tbody tr th {\n",
       "        vertical-align: top;\n",
       "    }\n",
       "\n",
       "    .dataframe thead th {\n",
       "        text-align: right;\n",
       "    }\n",
       "</style>\n",
       "<table border=\"1\" class=\"dataframe\">\n",
       "  <thead>\n",
       "    <tr style=\"text-align: right;\">\n",
       "      <th></th>\n",
       "      <th>release_date</th>\n",
       "      <th>movie</th>\n",
       "      <th>production_budget</th>\n",
       "      <th>domestic_gross</th>\n",
       "      <th>worldwide_gross</th>\n",
       "      <th>year</th>\n",
       "    </tr>\n",
       "  </thead>\n",
       "  <tbody>\n",
       "    <tr>\n",
       "      <th>0</th>\n",
       "      <td>2011-05-20</td>\n",
       "      <td>Pirates of the Caribbean: On Stranger Tides</td>\n",
       "      <td>410600000</td>\n",
       "      <td>241063875</td>\n",
       "      <td>1045663875</td>\n",
       "      <td>2011</td>\n",
       "    </tr>\n",
       "    <tr>\n",
       "      <th>1</th>\n",
       "      <td>2019-06-07</td>\n",
       "      <td>Dark Phoenix</td>\n",
       "      <td>350000000</td>\n",
       "      <td>42762350</td>\n",
       "      <td>149762350</td>\n",
       "      <td>2019</td>\n",
       "    </tr>\n",
       "    <tr>\n",
       "      <th>2</th>\n",
       "      <td>2015-05-01</td>\n",
       "      <td>Avengers: Age of Ultron</td>\n",
       "      <td>330600000</td>\n",
       "      <td>459005868</td>\n",
       "      <td>1403013963</td>\n",
       "      <td>2015</td>\n",
       "    </tr>\n",
       "    <tr>\n",
       "      <th>3</th>\n",
       "      <td>2017-12-15</td>\n",
       "      <td>Star Wars Ep. VIII: The Last Jedi</td>\n",
       "      <td>317000000</td>\n",
       "      <td>620181382</td>\n",
       "      <td>1316721747</td>\n",
       "      <td>2017</td>\n",
       "    </tr>\n",
       "    <tr>\n",
       "      <th>4</th>\n",
       "      <td>2015-12-18</td>\n",
       "      <td>Star Wars Ep. VII: The Force Awakens</td>\n",
       "      <td>306000000</td>\n",
       "      <td>936662225</td>\n",
       "      <td>2053311220</td>\n",
       "      <td>2015</td>\n",
       "    </tr>\n",
       "    <tr>\n",
       "      <th>...</th>\n",
       "      <td>...</td>\n",
       "      <td>...</td>\n",
       "      <td>...</td>\n",
       "      <td>...</td>\n",
       "      <td>...</td>\n",
       "      <td>...</td>\n",
       "    </tr>\n",
       "    <tr>\n",
       "      <th>1782</th>\n",
       "      <td>2016-03-18</td>\n",
       "      <td>Krisha</td>\n",
       "      <td>30000</td>\n",
       "      <td>144822</td>\n",
       "      <td>144822</td>\n",
       "      <td>2016</td>\n",
       "    </tr>\n",
       "    <tr>\n",
       "      <th>1783</th>\n",
       "      <td>2010-10-15</td>\n",
       "      <td>Down Terrace</td>\n",
       "      <td>30000</td>\n",
       "      <td>9812</td>\n",
       "      <td>9812</td>\n",
       "      <td>2010</td>\n",
       "    </tr>\n",
       "    <tr>\n",
       "      <th>1784</th>\n",
       "      <td>2017-01-27</td>\n",
       "      <td>Emily</td>\n",
       "      <td>27000</td>\n",
       "      <td>3547</td>\n",
       "      <td>3547</td>\n",
       "      <td>2017</td>\n",
       "    </tr>\n",
       "    <tr>\n",
       "      <th>1785</th>\n",
       "      <td>2010-04-02</td>\n",
       "      <td>Breaking Upwards</td>\n",
       "      <td>15000</td>\n",
       "      <td>115592</td>\n",
       "      <td>115592</td>\n",
       "      <td>2010</td>\n",
       "    </tr>\n",
       "    <tr>\n",
       "      <th>1786</th>\n",
       "      <td>2012-01-13</td>\n",
       "      <td>Newlyweds</td>\n",
       "      <td>9000</td>\n",
       "      <td>4584</td>\n",
       "      <td>4584</td>\n",
       "      <td>2012</td>\n",
       "    </tr>\n",
       "  </tbody>\n",
       "</table>\n",
       "<p>1787 rows × 6 columns</p>\n",
       "</div>"
      ],
      "text/plain": [
       "     release_date                                        movie  \\\n",
       "0      2011-05-20  Pirates of the Caribbean: On Stranger Tides   \n",
       "1      2019-06-07                                 Dark Phoenix   \n",
       "2      2015-05-01                      Avengers: Age of Ultron   \n",
       "3      2017-12-15            Star Wars Ep. VIII: The Last Jedi   \n",
       "4      2015-12-18         Star Wars Ep. VII: The Force Awakens   \n",
       "...           ...                                          ...   \n",
       "1782   2016-03-18                                       Krisha   \n",
       "1783   2010-10-15                                 Down Terrace   \n",
       "1784   2017-01-27                                        Emily   \n",
       "1785   2010-04-02                             Breaking Upwards   \n",
       "1786   2012-01-13                                    Newlyweds   \n",
       "\n",
       "      production_budget  domestic_gross  worldwide_gross  year  \n",
       "0             410600000       241063875       1045663875  2011  \n",
       "1             350000000        42762350        149762350  2019  \n",
       "2             330600000       459005868       1403013963  2015  \n",
       "3             317000000       620181382       1316721747  2017  \n",
       "4             306000000       936662225       2053311220  2015  \n",
       "...                 ...             ...              ...   ...  \n",
       "1782              30000          144822           144822  2016  \n",
       "1783              30000            9812             9812  2010  \n",
       "1784              27000            3547             3547  2017  \n",
       "1785              15000          115592           115592  2010  \n",
       "1786               9000            4584             4584  2012  \n",
       "\n",
       "[1787 rows x 6 columns]"
      ]
     },
     "execution_count": 15,
     "metadata": {},
     "output_type": "execute_result"
    }
   ],
   "source": [
    "movie_budget.drop(movie_budget.loc[movie_budget['domestic_gross'] == 0].index,\n",
    "                  inplace=True)\n",
    "movie_budget.reset_index(inplace=True, drop=True)\n",
    "movie_budget"
   ]
  },
  {
   "cell_type": "markdown",
   "id": "021ee781",
   "metadata": {
    "hidden": true
   },
   "source": [
    "***\n",
    "Also checking for duplicates"
   ]
  },
  {
   "cell_type": "code",
   "execution_count": 16,
   "id": "dd7ec2b4",
   "metadata": {
    "hidden": true
   },
   "outputs": [
    {
     "data": {
      "text/plain": [
       "False    1787\n",
       "dtype: int64"
      ]
     },
     "execution_count": 16,
     "metadata": {},
     "output_type": "execute_result"
    }
   ],
   "source": [
    "movie_budget.duplicated(['movie', 'release_date']).value_counts()"
   ]
  },
  {
   "cell_type": "markdown",
   "id": "3bec21a7",
   "metadata": {
    "hidden": true
   },
   "source": [
    "Both dataframes are ready for merge"
   ]
  },
  {
   "cell_type": "markdown",
   "id": "0bbd4c13",
   "metadata": {
    "heading_collapsed": true,
    "hidden": true
   },
   "source": [
    "## Merging title and financial data"
   ]
  },
  {
   "cell_type": "markdown",
   "id": "7275b038",
   "metadata": {
    "hidden": true
   },
   "source": [
    "Tested two merges:\n",
    "- inner merge on original_title / movie\n",
    "- inner merge on primary_title / movie\n",
    "\n",
    "Out of the 1787 entries in movie_budget, merging on original_title produces 1774 entries while primary_title produces 1835, so we will go with that. This is likely due to one-to-many matches, we will check again for duplicates.\n",
    "\n",
    "Explored using fuzzywuzzy to match title fields that were formatted slightly differently (i.e. using parentheses or colons in the title in one df but not the other). Elected to just go with the inner join on primary_title and cut our losses for now but this would be an area for improving the analysis by matching more films by title. How much of the 6% data loss would be recovered would be another question, and how that would affect the results as well."
   ]
  },
  {
   "cell_type": "code",
   "execution_count": 17,
   "id": "259321c5",
   "metadata": {
    "hidden": true
   },
   "outputs": [],
   "source": [
    "df = pd.merge(movie_ratings, movie_budget, how='inner',\n",
    "              left_on='primary_title', right_on='movie')"
   ]
  },
  {
   "cell_type": "markdown",
   "id": "e6ec7391",
   "metadata": {
    "hidden": true
   },
   "source": [
    "**** HERE IS WHERE I WAS EXPLORING HOW TO SEE WHAT MOVIES DID NOT MAKE THE MERGE ****"
   ]
  },
  {
   "cell_type": "code",
   "execution_count": 18,
   "id": "943c012f",
   "metadata": {
    "hidden": true
   },
   "outputs": [],
   "source": [
    "# budget_notMerged = movie_budget[~movie_budget['movie'].\n",
    "#                                  isin(df['movie'].unique())]"
   ]
  },
  {
   "cell_type": "code",
   "execution_count": 19,
   "id": "6df20605",
   "metadata": {
    "hidden": true
   },
   "outputs": [],
   "source": [
    "# budget_notMerged[budget_notMerged['worldwide_gross'] >= 500000000]"
   ]
  },
  {
   "cell_type": "markdown",
   "id": "8df530e1",
   "metadata": {
    "hidden": true
   },
   "source": [
    "**** IN THE END DECIDED TO CONTINUE WITH DF AS IS****"
   ]
  },
  {
   "cell_type": "markdown",
   "id": "fe881fb0",
   "metadata": {
    "hidden": true
   },
   "source": [
    "The following columns will be dropped:\n",
    "- primary_title, original_title. We will use the movie column\n",
    "- start_year. We will use release_date"
   ]
  },
  {
   "cell_type": "code",
   "execution_count": 20,
   "id": "729117b6",
   "metadata": {
    "hidden": true
   },
   "outputs": [],
   "source": [
    "df.drop(['primary_title', 'original_title', 'start_year'], axis=1,\n",
    "        inplace=True)"
   ]
  },
  {
   "cell_type": "markdown",
   "id": "756051fe",
   "metadata": {
    "hidden": true
   },
   "source": [
    "During investigation we also discovered duplicates in films, we will need to take care of those."
   ]
  },
  {
   "cell_type": "code",
   "execution_count": 21,
   "id": "844f0f27",
   "metadata": {
    "hidden": true
   },
   "outputs": [
    {
     "data": {
      "text/plain": [
       "False    1507\n",
       "True      328\n",
       "dtype: int64"
      ]
     },
     "execution_count": 21,
     "metadata": {},
     "output_type": "execute_result"
    }
   ],
   "source": [
    "df.duplicated(['movie', 'release_date']).value_counts()"
   ]
  },
  {
   "cell_type": "code",
   "execution_count": 22,
   "id": "34b45105",
   "metadata": {
    "hidden": true
   },
   "outputs": [
    {
     "data": {
      "text/html": [
       "<div>\n",
       "<style scoped>\n",
       "    .dataframe tbody tr th:only-of-type {\n",
       "        vertical-align: middle;\n",
       "    }\n",
       "\n",
       "    .dataframe tbody tr th {\n",
       "        vertical-align: top;\n",
       "    }\n",
       "\n",
       "    .dataframe thead th {\n",
       "        text-align: right;\n",
       "    }\n",
       "</style>\n",
       "<table border=\"1\" class=\"dataframe\">\n",
       "  <thead>\n",
       "    <tr style=\"text-align: right;\">\n",
       "      <th></th>\n",
       "      <th>movie</th>\n",
       "      <th>tconst</th>\n",
       "      <th>genres</th>\n",
       "      <th>averagerating</th>\n",
       "      <th>numvotes</th>\n",
       "      <th>release_date</th>\n",
       "      <th>production_budget</th>\n",
       "      <th>domestic_gross</th>\n",
       "      <th>worldwide_gross</th>\n",
       "      <th>year</th>\n",
       "    </tr>\n",
       "  </thead>\n",
       "  <tbody>\n",
       "    <tr>\n",
       "      <th>0</th>\n",
       "      <td>On the Road</td>\n",
       "      <td>tt0337692</td>\n",
       "      <td>[Adventure, Drama, Romance]</td>\n",
       "      <td>6.1</td>\n",
       "      <td>37886</td>\n",
       "      <td>2013-03-22</td>\n",
       "      <td>25000000</td>\n",
       "      <td>720828</td>\n",
       "      <td>9313302</td>\n",
       "      <td>2013</td>\n",
       "    </tr>\n",
       "    <tr>\n",
       "      <th>1</th>\n",
       "      <td>The Secret Life of Walter Mitty</td>\n",
       "      <td>tt0359950</td>\n",
       "      <td>[Adventure, Comedy, Drama]</td>\n",
       "      <td>7.3</td>\n",
       "      <td>275300</td>\n",
       "      <td>2013-12-25</td>\n",
       "      <td>91000000</td>\n",
       "      <td>58236838</td>\n",
       "      <td>187861183</td>\n",
       "      <td>2013</td>\n",
       "    </tr>\n",
       "    <tr>\n",
       "      <th>2</th>\n",
       "      <td>A Walk Among the Tombstones</td>\n",
       "      <td>tt0365907</td>\n",
       "      <td>[Action, Crime, Drama]</td>\n",
       "      <td>6.5</td>\n",
       "      <td>105116</td>\n",
       "      <td>2014-09-19</td>\n",
       "      <td>28000000</td>\n",
       "      <td>26017685</td>\n",
       "      <td>62108587</td>\n",
       "      <td>2014</td>\n",
       "    </tr>\n",
       "    <tr>\n",
       "      <th>3</th>\n",
       "      <td>Jurassic World</td>\n",
       "      <td>tt0369610</td>\n",
       "      <td>[Action, Adventure, Sci-Fi]</td>\n",
       "      <td>7.0</td>\n",
       "      <td>539338</td>\n",
       "      <td>2015-06-12</td>\n",
       "      <td>215000000</td>\n",
       "      <td>652270625</td>\n",
       "      <td>1648854864</td>\n",
       "      <td>2015</td>\n",
       "    </tr>\n",
       "    <tr>\n",
       "      <th>4</th>\n",
       "      <td>The Rum Diary</td>\n",
       "      <td>tt0376136</td>\n",
       "      <td>[Comedy, Drama]</td>\n",
       "      <td>6.2</td>\n",
       "      <td>94787</td>\n",
       "      <td>2011-10-28</td>\n",
       "      <td>45000000</td>\n",
       "      <td>13109815</td>\n",
       "      <td>21544732</td>\n",
       "      <td>2011</td>\n",
       "    </tr>\n",
       "    <tr>\n",
       "      <th>...</th>\n",
       "      <td>...</td>\n",
       "      <td>...</td>\n",
       "      <td>...</td>\n",
       "      <td>...</td>\n",
       "      <td>...</td>\n",
       "      <td>...</td>\n",
       "      <td>...</td>\n",
       "      <td>...</td>\n",
       "      <td>...</td>\n",
       "      <td>...</td>\n",
       "    </tr>\n",
       "    <tr>\n",
       "      <th>1502</th>\n",
       "      <td>Hereditary</td>\n",
       "      <td>tt7784604</td>\n",
       "      <td>[Drama, Horror, Mystery]</td>\n",
       "      <td>7.3</td>\n",
       "      <td>151571</td>\n",
       "      <td>2018-06-08</td>\n",
       "      <td>10000000</td>\n",
       "      <td>44069456</td>\n",
       "      <td>70133905</td>\n",
       "      <td>2018</td>\n",
       "    </tr>\n",
       "    <tr>\n",
       "      <th>1503</th>\n",
       "      <td>Dragon Ball Super: Broly</td>\n",
       "      <td>tt7961060</td>\n",
       "      <td>[Action, Adventure, Animation]</td>\n",
       "      <td>8.0</td>\n",
       "      <td>16465</td>\n",
       "      <td>2019-01-16</td>\n",
       "      <td>8500000</td>\n",
       "      <td>30376755</td>\n",
       "      <td>122747755</td>\n",
       "      <td>2019</td>\n",
       "    </tr>\n",
       "    <tr>\n",
       "      <th>1504</th>\n",
       "      <td>Happy Death Day 2U</td>\n",
       "      <td>tt8155288</td>\n",
       "      <td>[Drama, Horror, Mystery]</td>\n",
       "      <td>6.3</td>\n",
       "      <td>27462</td>\n",
       "      <td>2019-02-13</td>\n",
       "      <td>9000000</td>\n",
       "      <td>28051045</td>\n",
       "      <td>64179495</td>\n",
       "      <td>2019</td>\n",
       "    </tr>\n",
       "    <tr>\n",
       "      <th>1505</th>\n",
       "      <td>Fahrenheit 11/9</td>\n",
       "      <td>tt8632862</td>\n",
       "      <td>[Documentary]</td>\n",
       "      <td>6.7</td>\n",
       "      <td>11628</td>\n",
       "      <td>2018-09-21</td>\n",
       "      <td>5000000</td>\n",
       "      <td>6352306</td>\n",
       "      <td>6653715</td>\n",
       "      <td>2018</td>\n",
       "    </tr>\n",
       "    <tr>\n",
       "      <th>1506</th>\n",
       "      <td>Unplanned</td>\n",
       "      <td>tt9024106</td>\n",
       "      <td>[Biography, Drama]</td>\n",
       "      <td>6.3</td>\n",
       "      <td>5945</td>\n",
       "      <td>2019-03-29</td>\n",
       "      <td>6000000</td>\n",
       "      <td>18107621</td>\n",
       "      <td>18107621</td>\n",
       "      <td>2019</td>\n",
       "    </tr>\n",
       "  </tbody>\n",
       "</table>\n",
       "<p>1507 rows × 10 columns</p>\n",
       "</div>"
      ],
      "text/plain": [
       "                                movie     tconst  \\\n",
       "0                         On the Road  tt0337692   \n",
       "1     The Secret Life of Walter Mitty  tt0359950   \n",
       "2         A Walk Among the Tombstones  tt0365907   \n",
       "3                      Jurassic World  tt0369610   \n",
       "4                       The Rum Diary  tt0376136   \n",
       "...                               ...        ...   \n",
       "1502                       Hereditary  tt7784604   \n",
       "1503         Dragon Ball Super: Broly  tt7961060   \n",
       "1504               Happy Death Day 2U  tt8155288   \n",
       "1505                  Fahrenheit 11/9  tt8632862   \n",
       "1506                        Unplanned  tt9024106   \n",
       "\n",
       "                              genres  averagerating  numvotes release_date  \\\n",
       "0        [Adventure, Drama, Romance]            6.1     37886   2013-03-22   \n",
       "1         [Adventure, Comedy, Drama]            7.3    275300   2013-12-25   \n",
       "2             [Action, Crime, Drama]            6.5    105116   2014-09-19   \n",
       "3        [Action, Adventure, Sci-Fi]            7.0    539338   2015-06-12   \n",
       "4                    [Comedy, Drama]            6.2     94787   2011-10-28   \n",
       "...                              ...            ...       ...          ...   \n",
       "1502        [Drama, Horror, Mystery]            7.3    151571   2018-06-08   \n",
       "1503  [Action, Adventure, Animation]            8.0     16465   2019-01-16   \n",
       "1504        [Drama, Horror, Mystery]            6.3     27462   2019-02-13   \n",
       "1505                   [Documentary]            6.7     11628   2018-09-21   \n",
       "1506              [Biography, Drama]            6.3      5945   2019-03-29   \n",
       "\n",
       "      production_budget  domestic_gross  worldwide_gross  year  \n",
       "0              25000000          720828          9313302  2013  \n",
       "1              91000000        58236838        187861183  2013  \n",
       "2              28000000        26017685         62108587  2014  \n",
       "3             215000000       652270625       1648854864  2015  \n",
       "4              45000000        13109815         21544732  2011  \n",
       "...                 ...             ...              ...   ...  \n",
       "1502           10000000        44069456         70133905  2018  \n",
       "1503            8500000        30376755        122747755  2019  \n",
       "1504            9000000        28051045         64179495  2019  \n",
       "1505            5000000         6352306          6653715  2018  \n",
       "1506            6000000        18107621         18107621  2019  \n",
       "\n",
       "[1507 rows x 10 columns]"
      ]
     },
     "execution_count": 22,
     "metadata": {},
     "output_type": "execute_result"
    }
   ],
   "source": [
    "df.drop_duplicates(subset=['movie', 'release_date'], keep='first',\n",
    "                   inplace=True)\n",
    "# temp set index to movie, then reset so that indicies are correct and movie\n",
    "# is the first column in our resulting df\n",
    "df.set_index('movie', inplace=True)\n",
    "df.reset_index(inplace=True)\n",
    "df"
   ]
  },
  {
   "cell_type": "markdown",
   "id": "5bc9ad5a",
   "metadata": {
    "hidden": true
   },
   "source": [
    "Our main dataframe **df** now contains 1507 entries"
   ]
  },
  {
   "cell_type": "markdown",
   "id": "39d00151",
   "metadata": {
    "heading_collapsed": true,
    "hidden": true
   },
   "source": [
    "## Engineering additional features"
   ]
  },
  {
   "cell_type": "markdown",
   "id": "2915f312",
   "metadata": {
    "hidden": true
   },
   "source": [
    "Gross sales is certainly an important metric, but profit and return on investment may also prove interesting. We will create two new columns with these categories."
   ]
  },
  {
   "cell_type": "code",
   "execution_count": 23,
   "id": "3ba58976",
   "metadata": {
    "hidden": true
   },
   "outputs": [
    {
     "name": "stdout",
     "output_type": "stream",
     "text": [
      "<class 'pandas.core.frame.DataFrame'>\n",
      "RangeIndex: 1507 entries, 0 to 1506\n",
      "Data columns (total 12 columns):\n",
      " #   Column             Non-Null Count  Dtype         \n",
      "---  ------             --------------  -----         \n",
      " 0   movie              1507 non-null   object        \n",
      " 1   tconst             1507 non-null   object        \n",
      " 2   genres             1507 non-null   object        \n",
      " 3   averagerating      1507 non-null   float64       \n",
      " 4   numvotes           1507 non-null   int64         \n",
      " 5   release_date       1507 non-null   datetime64[ns]\n",
      " 6   production_budget  1507 non-null   int64         \n",
      " 7   domestic_gross     1507 non-null   int64         \n",
      " 8   worldwide_gross    1507 non-null   int64         \n",
      " 9   year               1507 non-null   int64         \n",
      " 10  profit             1507 non-null   int64         \n",
      " 11  roi                1507 non-null   float64       \n",
      "dtypes: datetime64[ns](1), float64(2), int64(6), object(3)\n",
      "memory usage: 141.4+ KB\n"
     ]
    },
    {
     "data": {
      "text/plain": [
       "None"
      ]
     },
     "metadata": {},
     "output_type": "display_data"
    },
    {
     "data": {
      "text/html": [
       "<div>\n",
       "<style scoped>\n",
       "    .dataframe tbody tr th:only-of-type {\n",
       "        vertical-align: middle;\n",
       "    }\n",
       "\n",
       "    .dataframe tbody tr th {\n",
       "        vertical-align: top;\n",
       "    }\n",
       "\n",
       "    .dataframe thead th {\n",
       "        text-align: right;\n",
       "    }\n",
       "</style>\n",
       "<table border=\"1\" class=\"dataframe\">\n",
       "  <thead>\n",
       "    <tr style=\"text-align: right;\">\n",
       "      <th></th>\n",
       "      <th>production_budget</th>\n",
       "      <th>domestic_gross</th>\n",
       "      <th>worldwide_gross</th>\n",
       "      <th>profit</th>\n",
       "    </tr>\n",
       "  </thead>\n",
       "  <tbody>\n",
       "    <tr>\n",
       "      <th>count</th>\n",
       "      <td>$1,507.00</td>\n",
       "      <td>$1,507.00</td>\n",
       "      <td>$1,507.00</td>\n",
       "      <td>$1,507.00</td>\n",
       "    </tr>\n",
       "    <tr>\n",
       "      <th>mean</th>\n",
       "      <td>$44,821,841.17</td>\n",
       "      <td>$56,818,703.70</td>\n",
       "      <td>$142,416,221.39</td>\n",
       "      <td>$97,594,380.21</td>\n",
       "    </tr>\n",
       "    <tr>\n",
       "      <th>std</th>\n",
       "      <td>$55,708,476.24</td>\n",
       "      <td>$84,209,875.52</td>\n",
       "      <td>$232,151,954.70</td>\n",
       "      <td>$191,689,314.56</td>\n",
       "    </tr>\n",
       "    <tr>\n",
       "      <th>min</th>\n",
       "      <td>$9,000.00</td>\n",
       "      <td>$388.00</td>\n",
       "      <td>$528.00</td>\n",
       "      <td>$-200,237,650.00</td>\n",
       "    </tr>\n",
       "    <tr>\n",
       "      <th>25%</th>\n",
       "      <td>$8,950,000.00</td>\n",
       "      <td>$4,756,283.00</td>\n",
       "      <td>$11,303,079.50</td>\n",
       "      <td>$-191,988.50</td>\n",
       "    </tr>\n",
       "    <tr>\n",
       "      <th>50%</th>\n",
       "      <td>$24,200,000.00</td>\n",
       "      <td>$28,370,522.00</td>\n",
       "      <td>$54,393,687.00</td>\n",
       "      <td>$25,358,392.00</td>\n",
       "    </tr>\n",
       "    <tr>\n",
       "      <th>75%</th>\n",
       "      <td>$55,000,000.00</td>\n",
       "      <td>$67,767,723.50</td>\n",
       "      <td>$160,069,202.00</td>\n",
       "      <td>$107,627,902.00</td>\n",
       "    </tr>\n",
       "    <tr>\n",
       "      <th>max</th>\n",
       "      <td>$410,600,000.00</td>\n",
       "      <td>$700,059,566.00</td>\n",
       "      <td>$2,048,134,200.00</td>\n",
       "      <td>$1,748,134,200.00</td>\n",
       "    </tr>\n",
       "  </tbody>\n",
       "</table>\n",
       "</div>"
      ],
      "text/plain": [
       "      production_budget   domestic_gross    worldwide_gross             profit\n",
       "count         $1,507.00        $1,507.00          $1,507.00          $1,507.00\n",
       "mean     $44,821,841.17   $56,818,703.70    $142,416,221.39     $97,594,380.21\n",
       "std      $55,708,476.24   $84,209,875.52    $232,151,954.70    $191,689,314.56\n",
       "min           $9,000.00          $388.00            $528.00   $-200,237,650.00\n",
       "25%       $8,950,000.00    $4,756,283.00     $11,303,079.50       $-191,988.50\n",
       "50%      $24,200,000.00   $28,370,522.00     $54,393,687.00     $25,358,392.00\n",
       "75%      $55,000,000.00   $67,767,723.50    $160,069,202.00    $107,627,902.00\n",
       "max     $410,600,000.00  $700,059,566.00  $2,048,134,200.00  $1,748,134,200.00"
      ]
     },
     "execution_count": 23,
     "metadata": {},
     "output_type": "execute_result"
    }
   ],
   "source": [
    "df['profit'] = df['worldwide_gross'] - df['production_budget']\n",
    "df['roi'] = df['profit'] / df['production_budget']\n",
    "display(df.info())\n",
    "# format the descibe() so it's easier to read financials\n",
    "df[['production_budget', 'domestic_gross', 'worldwide_gross', 'profit',\n",
    "   ]].describe().apply(lambda x: x.apply('${0:,.2f}'.format))"
   ]
  },
  {
   "cell_type": "markdown",
   "id": "8bd2c5d5",
   "metadata": {
    "hidden": true
   },
   "source": [
    "The dataframe \"df\" will now be the default dataframe that we expand on for the questions we are trying to answer."
   ]
  },
  {
   "cell_type": "markdown",
   "id": "9fb7c8e2",
   "metadata": {},
   "source": [
    "# Question 1: What genre?"
   ]
  },
  {
   "cell_type": "markdown",
   "id": "6fd53bbb",
   "metadata": {},
   "source": [
    "We can explode out our dataframe based on the genre column so that movies with multiple genres can be counted in each type comparison.\n",
    "\n",
    "Exploding \"genres\" increases our number of entries from 1507 to 3808"
   ]
  },
  {
   "cell_type": "code",
   "execution_count": 24,
   "id": "781a775f",
   "metadata": {},
   "outputs": [],
   "source": [
    "df_genres = df.explode('genres')"
   ]
  },
  {
   "cell_type": "markdown",
   "id": "b1da8857",
   "metadata": {},
   "source": [
    "First get a representation of the frequency of each genre"
   ]
  },
  {
   "cell_type": "code",
   "execution_count": 25,
   "id": "9c2c6365",
   "metadata": {},
   "outputs": [
    {
     "data": {
      "image/png": "[encoded data removed]",
      "text/plain": [
       "<Figure size 864x432 with 1 Axes>"
      ]
     },
     "metadata": {
      "needs_background": "light"
     },
     "output_type": "display_data"
    }
   ],
   "source": [
    "# copy df_genres, get count and sort descending\n",
    "df_genres_copy = df_genres.groupby('genres').count().sort_values('tconst',\n",
    "                                                            ascending=False)\n",
    "df_genres_copy.reset_index(inplace=True)\n",
    "\n",
    "# set up barplot to represent frequency of genres\n",
    "fig, ax = plt.subplots(figsize=(12,6))\n",
    "ax = sns.barplot(data=df_genres_copy, x='genres', y='tconst')\n",
    "ax.set(title='Distribution of Genres', xlabel='Genres', ylabel='Frequency')\n",
    "plt.setp(ax.get_xticklabels(), rotation=90); # better orientation of ticks"
   ]
  },
  {
   "cell_type": "markdown",
   "id": "d467f44d",
   "metadata": {},
   "source": [
    "We have 21 genres, 9 of which are represented by less than 100 films. We will leave them in for now and see what initial analysis looks like.\n",
    "***"
   ]
  },
  {
   "cell_type": "markdown",
   "id": "52c5b4dc",
   "metadata": {},
   "source": [
    "There are three numerical columns that we will plot for initial analysis of genre:\n",
    "- Domestic Gross\n",
    "- Worldwide Gross\n",
    "- Profit"
   ]
  },
  {
   "cell_type": "markdown",
   "id": "f553b51d",
   "metadata": {},
   "source": [
    "Initial visualizations showed a marked disparity between the top 5 genres and the remainder in all three financial categories. For the non-technical presentation we will use the top five genres in each category"
   ]
  },
  {
   "cell_type": "code",
   "execution_count": 53,
   "id": "6e4deeab",
   "metadata": {},
   "outputs": [
    {
     "data": {
      "image/png": "[encoded data removed]",
      "text/plain": [
       "<Figure size 720x360 with 3 Axes>"
      ]
     },
     "metadata": {
      "needs_background": "light"
     },
     "output_type": "display_data"
    }
   ],
   "source": [
    "# get the order for top genres in each financial category, limit to top 5\n",
    "dom_order = df_genres.groupby('genres')['domestic_gross'].mean().sort_values(\n",
    "    ascending=False).index[0:5]\n",
    "wor_order = df_genres.groupby('genres')['worldwide_gross'].mean().sort_values(\n",
    "    ascending=False).index[0:5]\n",
    "prof_order = df_genres.groupby('genres')['profit'].mean().sort_values(\n",
    "    ascending=False).index[0:5]\n",
    "\n",
    "# set up 3 column figure for plotting barplots of each financial category\n",
    "# have them share the x-axis to keep financials in perspective\n",
    "fig, axes = plt.subplots(ncols=3, figsize=(10,5), sharex=True)\n",
    "\n",
    "# left column - domestic gross \n",
    "sns.barplot(ax=axes[0], data=df_genres, x='domestic_gross', y='genres',\n",
    "            order=dom_order)\n",
    "axes[0].set(title='Domestic', xlabel='Billions ($)', ylabel='Genre')\n",
    "\n",
    "# middle column - worldwide gross\n",
    "sns.barplot(ax=axes[1], data=df_genres, x='worldwide_gross', y='genres',\n",
    "            order=wor_order)\n",
    "axes[1].set(title='Worldwide', xlabel='Billions ($)', ylabel=None)\n",
    "\n",
    "# right column - profit\n",
    "sns.barplot(ax=axes[2], data=df_genres, x='profit', y='genres',\n",
    "            order=prof_order)\n",
    "axes[2].set(title='Total Profit', xlabel='Billions ($)', ylabel=None)\n",
    "\n",
    "plt.tight_layout()\n",
    "fig.suptitle('Gross Financial Averages of Top 5 Genres', y=1.03, fontsize=16,\n",
    "            fontweight='bold');"
   ]
  },
  {
   "cell_type": "markdown",
   "id": "98ff3ae1",
   "metadata": {},
   "source": [
    "***"
   ]
  },
  {
   "cell_type": "markdown",
   "id": "3608cd29",
   "metadata": {},
   "source": [
    "Animation tops the average of all three financial categories, followed by Adventure and Sci-Fi in domestic/worldwide, flipped in profit.\n",
    "\n",
    "Initial analysis supports an animated feature film based on all three financial metrics, but what kind of animated film?"
   ]
  },
  {
   "cell_type": "markdown",
   "id": "5f3fc086",
   "metadata": {
    "heading_collapsed": true
   },
   "source": [
    "# Question 1.5: What kind of animated film?"
   ]
  },
  {
   "cell_type": "markdown",
   "id": "f63e328f",
   "metadata": {
    "hidden": true
   },
   "source": [
    "First we need to set up a dataframe that just contains the subset of animated films from df_genres. Total is 99 films."
   ]
  },
  {
   "cell_type": "code",
   "execution_count": 27,
   "id": "0228e04d",
   "metadata": {
    "hidden": true
   },
   "outputs": [],
   "source": [
    "df_animation = df_genres[df_genres['genres'] == 'Animation']\n",
    "df_animation.reset_index(inplace=True, drop=True)"
   ]
  },
  {
   "cell_type": "markdown",
   "id": "aebcc5aa",
   "metadata": {
    "hidden": true
   },
   "source": [
    "Merging df_genres with df_animation generates a one-to-many relationship that can be used to show the value counts of the other genres that often accompany animated films."
   ]
  },
  {
   "cell_type": "code",
   "execution_count": 28,
   "id": "8504a85b",
   "metadata": {
    "hidden": true
   },
   "outputs": [
    {
     "data": {
      "text/plain": [
       "genres_x\n",
       "Animation    99\n",
       "Adventure    86\n",
       "Comedy       75\n",
       "Action       21\n",
       "Family        9\n",
       "Drama         2\n",
       "Fantasy       1\n",
       "dtype: int64"
      ]
     },
     "execution_count": 28,
     "metadata": {},
     "output_type": "execute_result"
    }
   ],
   "source": [
    "# value_counts is on genres_x due to duplicate names on merge\n",
    "pd.merge(df_genres, df_animation, how='inner',\n",
    "         on='tconst').value_counts('genres_x') "
   ]
  },
  {
   "cell_type": "markdown",
   "id": "be9d9182",
   "metadata": {
    "hidden": true
   },
   "source": [
    "If animation films perform best in worldwide gross, the major co-genres with animation would be Adventure and Comedy.\n",
    "\n",
    "The data would endorse making an animated **adventure/comedy.**\n",
    "***"
   ]
  },
  {
   "cell_type": "markdown",
   "id": "e08d3395",
   "metadata": {
    "heading_collapsed": true
   },
   "source": [
    "# Question 2: When should we release the film?"
   ]
  },
  {
   "cell_type": "code",
   "execution_count": 29,
   "id": "cbd7052f",
   "metadata": {
    "hidden": true
   },
   "outputs": [],
   "source": [
    "# create copies of original df and df_animation\n",
    "df_copy = df.copy()\n",
    "df_animation_copy = df_animation.copy()\n",
    "\n",
    "# engineer a feature in each copy called \"month\" from release_date\n",
    "df_copy['month'] = df_copy['release_date'].map(lambda x: x.strftime(\"%b\"))\n",
    "df_animation_copy['month'] = df_animation_copy['release_date'].map(\n",
    "    lambda x: x.strftime(\"%b\"))\n",
    "\n",
    "# list of the correct order of months\n",
    "months = [\"Jan\", \"Feb\", \"Mar\", \"Apr\", \"May\", \"Jun\", \"Jul\", \"Oct\", \"Nov\",\n",
    "          \"Dec\"]"
   ]
  },
  {
   "cell_type": "markdown",
   "id": "7c1690f5",
   "metadata": {
    "hidden": true
   },
   "source": [
    "**Use different palates for these bargraphs, left is all films by month avg gross, right is just animation. Top is worldwide gross, bottom is domestic**"
   ]
  },
  {
   "cell_type": "code",
   "execution_count": 30,
   "id": "f65ddf53",
   "metadata": {
    "hidden": true
   },
   "outputs": [
    {
     "data": {
      "image/png": "[encoded data removed]",
      "text/plain": [
       "<Figure size 1080x792 with 4 Axes>"
      ]
     },
     "metadata": {
      "needs_background": "light"
     },
     "output_type": "display_data"
    }
   ],
   "source": [
    "# set up a 2x2 plot for comparing release month for all films and animated\n",
    "# films in both worldwide and domestic gross\n",
    "\n",
    "fix, axes = plt.subplots(nrows=2, ncols=2, figsize=(15,11))\n",
    "\n",
    "# Plot 0: Average Worldwide Gross by Month all films\n",
    "sns.barplot(data=df_copy, x='month', y='worldwide_gross', order=months,\n",
    "            ax=axes[0][0])\n",
    "\n",
    "# Plot 1: Average Worldwide Gross by Month Animation\n",
    "sns.barplot(data=df_animation_copy, x='month', y='worldwide_gross',\n",
    "            order=months, ax=axes[0][1])\n",
    "\n",
    "# Plot 3: Average Domestic Gross by Month all films\n",
    "sns.barplot(data=df_copy, x='month', y='domestic_gross', order=months,\n",
    "            ax=axes[1][0])\n",
    "\n",
    "# Plot 4: Average Domestic Gross by Month Animation\n",
    "sns.barplot(data=df_animation_copy, x='month', y='domestic_gross',\n",
    "            order=months, ax=axes[1][1])\n",
    "\n",
    "plt.tight_layout()\n",
    "\n",
    "fig.suptitle('Film Gross by Month', y=1.05, fontsize=16, fontweight='bold');\n"
   ]
  },
  {
   "cell_type": "markdown",
   "id": "e97cc364",
   "metadata": {
    "hidden": true
   },
   "source": [
    "The domestic financial data would also endorse a June release for an animated film. It is noteable that the data has large variance tails on them, so it's not a guarantee.\n",
    "\n",
    "While June looks like a good month to release, definitely stay away from Jan and Oct."
   ]
  },
  {
   "cell_type": "markdown",
   "id": "bda243d9",
   "metadata": {
    "heading_collapsed": true
   },
   "source": [
    "# Question 3: How much should the budget be?"
   ]
  },
  {
   "cell_type": "markdown",
   "id": "c62ee82a",
   "metadata": {
    "hidden": true
   },
   "source": [
    "Visualize two scatterplots with linear regression line, one for domestic_gross and one for worldwide_gross"
   ]
  },
  {
   "cell_type": "code",
   "execution_count": 52,
   "id": "79e9482e",
   "metadata": {
    "hidden": true
   },
   "outputs": [
    {
     "data": {
      "image/png": "[encoded data removed]",
      "text/plain": [
       "<Figure size 576x576 with 1 Axes>"
      ]
     },
     "metadata": {
      "needs_background": "light"
     },
     "output_type": "display_data"
    }
   ],
   "source": [
    "#set up figure. share y so we can illustrate scale of gross\n",
    "fig, ax = plt.subplots(figsize=(8,8), sharey=True)\n",
    "\n",
    "\n",
    "ax1 = sns.regplot(data=df_animation, x='production_budget',\n",
    "                 y='domestic_gross', color='orange')\n",
    "\n",
    "ax2 = sns.regplot(data=df_animation, x='production_budget',\n",
    "                 y='worldwide_gross', color='blue')\n",
    "\n",
    "# ax.legend();\n",
    "\n",
    "ax.set(title='Domestic/Worldwide Gross Related to Production Budget',\n",
    "      xlabel='Production Budget (10s of Millions USD)',\n",
    "      ylabel = 'Financial Gross (Billions USD)');"
   ]
  },
  {
   "cell_type": "code",
   "execution_count": 32,
   "id": "ba9b6ed3",
   "metadata": {
    "hidden": true
   },
   "outputs": [
    {
     "name": "stderr",
     "output_type": "stream",
     "text": [
      "<ipython-input-32-cf6ec0b206f7>:30: UserWarning: FixedFormatter should only be used together with FixedLocator\n",
      "  ax.set_xticklabels(ax.get_xticklabels(),rotation=45, ha='right')\n"
     ]
    },
    {
     "data": {
      "image/png": "[encoded data removed]",
      "text/plain": [
       "<Figure size 648x360 with 1 Axes>"
      ]
     },
     "metadata": {
      "needs_background": "light"
     },
     "output_type": "display_data"
    }
   ],
   "source": [
    "import matplotlib as mpl\n",
    "from matplotlib.ticker import FuncFormatter\n",
    "\n",
    "# function to change formatting to be easier to read\n",
    "def hundred_thousands(x,pos):\n",
    "    return f\"${x*1e-3:,.0f}\"\n",
    "\n",
    "# set up figure\n",
    "fig, ax = plt.subplots(figsize=(9,5))\n",
    "\n",
    "# histogram using df_animation on production_budget\n",
    "sns.histplot(data=df_animation, x='production_budget', ax=ax)\n",
    "\n",
    "ax.set(title='Distribution of Animation Film Production Budgets',\n",
    "      xlabel='Production Budget ($)', ylabel='Frequency')\n",
    "\n",
    "# include a line for the mean\n",
    "mean = df_animation['production_budget'].mean()\n",
    "ax.axvline(mean, label=f'Mean: ${mean:.2f}', color='red', ls=':', lw='2')\n",
    "\n",
    "# include a line for the median\n",
    "median = df_animation[\"production_budget\"].median()\n",
    "ax.axvline(median, label=f'Median: ${mean:.2f}', color='orange', ls=':',\n",
    "           lw='2')\n",
    "\n",
    "# include a legend for the mean/median\n",
    "ax.legend()\n",
    "\n",
    "# rotate x tick-labels slightly to better read\n",
    "ax.set_xticklabels(ax.get_xticklabels(),rotation=45, ha='right')\n",
    "budget_fmt = FuncFormatter(hundred_thousands)\n",
    "ax.xaxis.set_major_formatter(budget_fmt);\n",
    "\n",
    "## Got the major_formatted info but it only does hundred thousands, could not\n",
    "## get it to format to millions. M"
   ]
  },
  {
   "cell_type": "markdown",
   "id": "891bb5a3",
   "metadata": {
    "hidden": true
   },
   "source": [
    "The average production budget for animated films is just under 100 million. There is a clear positive relationship between production budget and both financial gross features. The data supports a recommendation to Microsoft to throw considerable financial weight behind the first film, at least 200 million"
   ]
  },
  {
   "cell_type": "markdown",
   "id": "60edc2e2",
   "metadata": {
    "heading_collapsed": true
   },
   "source": [
    "# Question 4: Who should direct?"
   ]
  },
  {
   "cell_type": "markdown",
   "id": "83a00c7c",
   "metadata": {
    "hidden": true
   },
   "source": [
    "First, merge the dataframe that is all animated films (df_animation) onto the crew dataframe on the shared value \"tconst\". The directors column also needs to be split in the event there are multiple directors."
   ]
  },
  {
   "cell_type": "code",
   "execution_count": 33,
   "id": "ea59f1ec",
   "metadata": {
    "hidden": true,
    "scrolled": true
   },
   "outputs": [],
   "source": [
    "df_animation_crew_raw = pd.merge(left=df_animation, right=crew, on='tconst')\n",
    "df_animation_crew_raw['directors'] = df_animation_crew_raw['directors'].map(\n",
    "    lambda x: x.split(','))"
   ]
  },
  {
   "cell_type": "markdown",
   "id": "42dde323",
   "metadata": {
    "hidden": true
   },
   "source": [
    "Just like with genres, we explode our dataframe on directors for those films that have more than 1."
   ]
  },
  {
   "cell_type": "code",
   "execution_count": 34,
   "id": "b20f1c84",
   "metadata": {
    "hidden": true
   },
   "outputs": [],
   "source": [
    "df_animation_crew = df_animation_crew_raw.explode('directors')"
   ]
  },
  {
   "cell_type": "code",
   "execution_count": 35,
   "id": "9d3db8b1",
   "metadata": {
    "hidden": true,
    "scrolled": true
   },
   "outputs": [],
   "source": [
    "df_directors = pd.merge(df_animation_crew, name_info, how='inner',\n",
    "                        left_on='directors', right_on='nconst')"
   ]
  },
  {
   "cell_type": "markdown",
   "id": "b2b6c706",
   "metadata": {
    "hidden": true
   },
   "source": [
    "df_directors will be our dataframe used for analysis. It's slightly longer than our df_animation dataframe due to some films having more than 1 director.\n",
    "***"
   ]
  },
  {
   "cell_type": "code",
   "execution_count": 36,
   "id": "879c89c1",
   "metadata": {
    "hidden": true,
    "scrolled": true
   },
   "outputs": [
    {
     "name": "stdout",
     "output_type": "stream",
     "text": [
      "[[ 1 95]\n",
      " [ 2 14]\n",
      " [ 3  5]\n",
      " [ 4  3]]\n"
     ]
    }
   ],
   "source": [
    "# get the array of number of films each director has directed in animation\n",
    "films_directed = df_directors['directors'].value_counts().values\n",
    "\n",
    "# https://stackoverflow.com/questions/10741346/numpy-most-efficient-frequency-counts-for-unique-values-in-an-array\n",
    "unique, counts = np.unique(films_directed, return_counts=True)\n",
    "print(np.asarray((unique, counts)).T)"
   ]
  },
  {
   "cell_type": "markdown",
   "id": "7a9df568",
   "metadata": {
    "hidden": true
   },
   "source": [
    "Most animated film directors have only directed one movie, while some have directed several. No one director has done more than 4 animated films.\n",
    "\n",
    "We will likely not have enough aggregate data on each director to make significant recommendations.\n",
    "\n",
    "Therefore, the metric we are using for this recommendation is the top worldwide grossing directors in animation, all directors whose average worldwide_gross is over 1 billion USD."
   ]
  },
  {
   "cell_type": "code",
   "execution_count": 37,
   "id": "a3cc0416",
   "metadata": {
    "hidden": true
   },
   "outputs": [
    {
     "data": {
      "image/png": "[encoded data removed]",
      "text/plain": [
       "<Figure size 360x1008 with 1 Axes>"
      ]
     },
     "metadata": {
      "needs_background": "light"
     },
     "output_type": "display_data"
    }
   ],
   "source": [
    "df_top_directors = df_directors[df_directors['worldwide_gross'] >= 1000000000]\n",
    "df_top_directors.sort_values('worldwide_gross', ascending=False)\n",
    "df_top_directors.set_index('primary_name', inplace=True, drop=True)\n",
    "df_top_directors.reset_index(inplace=True)\n",
    "\n",
    "# set the order for directors to be displayed in\n",
    "top_directors = df_top_directors.groupby('primary_name').mean().sort_values(\n",
    "    'worldwide_gross', ascending=False).index\n",
    "\n",
    "# set up figure\n",
    "plt.figure(figsize=(5,14))\n",
    "\n",
    "# barplot of top_directors by worldwide_gross\n",
    "sns.barplot(data=df_top_directors, x='worldwide_gross', y='primary_name',\n",
    "            order=top_directors)\n",
    "plt.title('Animation Directors by Worldwide Gross')\n",
    "plt.xlabel('Gross (in Billions USD)')\n",
    "plt.ylabel('Director Name');"
   ]
  },
  {
   "cell_type": "markdown",
   "id": "0242c2df",
   "metadata": {
    "hidden": true
   },
   "source": [
    "When we look at the data more closely, we see that most of the animated films have multiple directors. Brad Bird and Lee Unkrich are the only two directors in our analysis that directed solo.\n",
    "\n",
    "Brad Bird is not only a solo director, he also has the distinction of making the highest worldwide grossing animated film of the past 10 years."
   ]
  },
  {
   "cell_type": "markdown",
   "id": "720308f5",
   "metadata": {
    "heading_collapsed": true
   },
   "source": [
    "# Question 5: Who should star in the film?"
   ]
  },
  {
   "cell_type": "markdown",
   "id": "00033e58",
   "metadata": {
    "hidden": true
   },
   "source": [
    "Merging the df_animation dataframe with the principals dataframe give us raw principals for animated films.\n",
    "\n",
    "The original number of entries in df_animation is 99 films."
   ]
  },
  {
   "cell_type": "code",
   "execution_count": 38,
   "id": "d0ddb586",
   "metadata": {
    "hidden": true
   },
   "outputs": [],
   "source": [
    "df_actors_raw = pd.merge(left=df_animation, right=principals, how='inner',\n",
    "                         on='tconst')"
   ]
  },
  {
   "cell_type": "markdown",
   "id": "873f515e",
   "metadata": {
    "hidden": true
   },
   "source": [
    "From those 99 films, the one to many relationship produces 989 principals for the 99 animated films\n",
    "***"
   ]
  },
  {
   "cell_type": "markdown",
   "id": "1e630b7f",
   "metadata": {
    "hidden": true
   },
   "source": [
    "The principals include roles like writer and producer. The scope of the question would pertain to actors/actresses, but further analysis on other principals could be interesting. For now, we limit to only those two types of categories."
   ]
  },
  {
   "cell_type": "code",
   "execution_count": 39,
   "id": "af9d50e2",
   "metadata": {
    "hidden": true
   },
   "outputs": [],
   "source": [
    "df_actors_raw = df_actors_raw[df_actors_raw['category'].isin(\n",
    "    ['actor', 'actress'])]"
   ]
  },
  {
   "cell_type": "markdown",
   "id": "8b572d4e",
   "metadata": {
    "hidden": true
   },
   "source": [
    "df_actors_raw now contains 395 entries for actor/actress\n",
    "***"
   ]
  },
  {
   "cell_type": "markdown",
   "id": "bd09a1ea",
   "metadata": {
    "hidden": true
   },
   "source": [
    "Here we merge the df_actors_raw with name_info"
   ]
  },
  {
   "cell_type": "code",
   "execution_count": 40,
   "id": "bae5fd2a",
   "metadata": {
    "hidden": true
   },
   "outputs": [],
   "source": [
    "df_actors_names_raw = pd.merge(df_actors_raw, name_info, how='inner',\n",
    "                               on='nconst')\n",
    "df_actors_names_raw.set_index('primary_name', inplace=True)\n",
    "df_actors_names_raw.reset_index(inplace=True)"
   ]
  },
  {
   "cell_type": "markdown",
   "id": "7abc6960",
   "metadata": {
    "hidden": true
   },
   "source": [
    "EDA and organization to get the data we want"
   ]
  },
  {
   "cell_type": "code",
   "execution_count": 41,
   "id": "f83909ae",
   "metadata": {
    "hidden": true
   },
   "outputs": [],
   "source": [
    "# make sure there are not any deceased actors that we may actually recommend\n",
    "df_actors_alive = df_actors_names_raw[\n",
    "    ~df_actors_names_raw['death_year'].notnull()]\n",
    "\n",
    "# cleaning up by dropping unneeded columns\n",
    "df_actors = df_actors_alive.drop(['genres','averagerating','numvotes',\n",
    "                                  'ordering','nconst','category','job',\n",
    "                                  'characters','birth_year','death_year',\n",
    "                                  'primary_profession', 'known_for_titles'],\n",
    "                                   axis=1)\n",
    "\n",
    "# create df from df_actors to get count of films they have been in\n",
    "df_actors_grouped = df_actors.groupby('primary_name').count().sort_values(\n",
    "    'tconst', ascending=False)\n",
    "\n",
    "# create a new df for those actors in animation in more than 1 movie\n",
    "df_actors_mult_films = df_actors_grouped[df_actors_grouped['tconst'] > 1]\n",
    "\n",
    "# remove unnecessary data\n",
    "df_actors_film_count = df_actors_mult_films.iloc[: , :-8]"
   ]
  },
  {
   "cell_type": "markdown",
   "id": "cc852231",
   "metadata": {
    "hidden": true
   },
   "source": [
    "This dataframe gives us the actors that have appeared in more than 1 film so we can get some aggregate results rather than our data being filled with single appearance actors that will throw off averages\n",
    "***\n",
    "Now we make another dataframe which groups df_actors by their primary_name and gets their mean aggregate"
   ]
  },
  {
   "cell_type": "code",
   "execution_count": 43,
   "id": "0f94237f",
   "metadata": {
    "hidden": true
   },
   "outputs": [],
   "source": [
    "df_actors_grouped = df_actors.groupby('primary_name').mean()\n",
    "df_actors_grouped.reset_index(inplace=True)"
   ]
  },
  {
   "cell_type": "markdown",
   "id": "0a42149f",
   "metadata": {
    "hidden": true
   },
   "source": [
    "Then we merge the grouped actor dataframe with the film count dataframe"
   ]
  },
  {
   "cell_type": "code",
   "execution_count": 44,
   "id": "7fae80e5",
   "metadata": {
    "hidden": true
   },
   "outputs": [],
   "source": [
    "df_actors_gross = pd.merge(df_actors_grouped, df_actors_film_count,\n",
    "                           how='inner', on='primary_name')"
   ]
  },
  {
   "cell_type": "code",
   "execution_count": 46,
   "id": "035f7851",
   "metadata": {
    "hidden": true
   },
   "outputs": [
    {
     "data": {
      "text/plain": [
       "2    44\n",
       "3    15\n",
       "4     3\n",
       "Name: movie, dtype: int64"
      ]
     },
     "execution_count": 46,
     "metadata": {},
     "output_type": "execute_result"
    }
   ],
   "source": [
    "df_actors_gross['movie'].value_counts()"
   ]
  },
  {
   "cell_type": "code",
   "execution_count": 47,
   "id": "bc37c73e",
   "metadata": {
    "hidden": true,
    "scrolled": true
   },
   "outputs": [
    {
     "data": {
      "text/plain": [
       "2    0.709677\n",
       "3    0.241935\n",
       "4    0.048387\n",
       "Name: movie, dtype: float64"
      ]
     },
     "execution_count": 47,
     "metadata": {},
     "output_type": "execute_result"
    }
   ],
   "source": [
    "df_actors_gross['movie'].value_counts(normalize=True)"
   ]
  },
  {
   "cell_type": "markdown",
   "id": "1b8e2e47",
   "metadata": {
    "hidden": true
   },
   "source": [
    "70% of our mutli-film actors have only been in 2 films. Only 18 actors have been in 3 or 4 films. Given the nature of animated films, and from looking at the data, it's likely most of the multi-film actors are from the same franchise (Despicable Me, Kung Fu Panda, Hotel Transylvania, etc.)"
   ]
  },
  {
   "cell_type": "code",
   "execution_count": 48,
   "id": "126c4712",
   "metadata": {
    "hidden": true,
    "scrolled": true
   },
   "outputs": [
    {
     "data": {
      "image/png": "[encoded data removed]",
      "text/plain": [
       "<Figure size 432x288 with 1 Axes>"
      ]
     },
     "metadata": {
      "needs_background": "light"
     },
     "output_type": "display_data"
    }
   ],
   "source": [
    "sns.barplot(x='worldwide_gross', y='primary_name', \n",
    "            data=df_actors_gross.sort_values('worldwide_gross',\n",
    "                                             ascending=False)[0:10]);"
   ]
  },
  {
   "cell_type": "code",
   "execution_count": 49,
   "id": "3bb34492",
   "metadata": {
    "hidden": true
   },
   "outputs": [
    {
     "data": {
      "image/png": "[encoded data removed]",
      "text/plain": [
       "<Figure size 360x864 with 1 Axes>"
      ]
     },
     "metadata": {
      "needs_background": "light"
     },
     "output_type": "display_data"
    }
   ],
   "source": [
    "plt.figure(figsize=(5, 12))\n",
    "\n",
    "sns.barplot(x='movie', y='primary_name', \n",
    "            data=df_actors_gross.sort_values('movie',\n",
    "                                             ascending=False));"
   ]
  },
  {
   "cell_type": "markdown",
   "id": "56168dbc",
   "metadata": {
    "hidden": true
   },
   "source": [
    "The top barplot represents the highest grossing actors, while the bottom represents actors who have been in the most animated films in our data.\n",
    "\n",
    "There is no correlation between the number of animated films an actor has been in and how much money those films have made worldwide.\n",
    "\n",
    "The data would support hiring **Miranda Cosgrove** as she is the only actor in animated films whose total worldwide gross is over 1 billion."
   ]
  },
  {
   "cell_type": "markdown",
   "id": "db509c56",
   "metadata": {
    "heading_collapsed": true
   },
   "source": [
    "# Conclusions"
   ]
  },
  {
   "cell_type": "markdown",
   "id": "8749af90",
   "metadata": {
    "hidden": true
   },
   "source": [
    "The data supports making the following recommendation to Microsoft Films:\n",
    "- Produce an **animated** feature film that is\n",
    "- An **adventure/comedy**\n",
    "- The movie should be released in **June**\n",
    "- Budget of at least **200 million (USD)**\n",
    "- Directed by **Brad Bird**\n",
    "- Starring **Miranda Cosgrove**\n",
    "\n",
    "***\n",
    "The recommendations for genre, release month, and budget are all solidly supported by descriptive statistics of our film data; the recommendations for director and actor less so. The qualifications for our recommendation for director and actor are purely based on average worldwide gross for films. There are also relatively few animated films compared to other genres, with even smaller amounts of aggregate data available to make strong recommendations.\n",
    "***"
   ]
  },
  {
   "cell_type": "markdown",
   "id": "3e3f743c",
   "metadata": {
    "heading_collapsed": true
   },
   "source": [
    "# Next Steps"
   ]
  },
  {
   "cell_type": "markdown",
   "id": "b624dad2",
   "metadata": {
    "hidden": true
   },
   "source": [
    "In the bigger picture, a larger dataset may give different genre recommendations than produced here. In addition, data on original IP vs remake/sequel/prequel would be interesting to look at. Looking at our top grossing films we see most are from Disney/Pixar and Dreamworks. These companies have enormous resources and reputation behind them that will make it difficult to compete.\n",
    "\n",
    "Additionally, this only looks at the past 10 years. It would be recommended to expand initial analysis to a larger dataset including more years. It would be interesting to look at the market share of genres over time to see if any patterns emerge."
   ]
  },
  {
   "cell_type": "markdown",
   "id": "502f9c87",
   "metadata": {
    "hidden": true
   },
   "source": [
    "In section 2.5 it was highlighted that merging our data did not result in all films from our financial dataset being merged with the meta-data. Further exploration showed that there were inconsistencies in naming of films between the two datasets that resulted in data loss during the merge. The first major next step would be sourcing new data for film information that does not suffer from these inconsistencies. Given the relatively small dataset used in this project, the films lost in the merge may have affected the recommendations.\n",
    "\n",
    "It is more than just the director and the star that make a successful movie. There are writers, producers, other crew members and supporting actors. There is also the time of year a movie is released, other films it's competing with, marketing, etc. We suspect that no matter the amount of data collected for all of these additional features there would still not be a clear recommendation for a guaranteed financial success.\n",
    "\n",
    "During data analysis, we also noticed that most of the films were part of already existing intellectual property. It is a difficult prospect to go up against studios that have had decades of practice in making great movies and emulate that on the first attempt. The final recommendation for next step would be to analyze public interest in newer properties that have not yet been optioned. Look at books and television for hot trends that could be ported to film. The recommendation to make an animated adventure film stands, but the logical next step would be: what kind of story?\n",
    "\n"
   ]
  },
  {
   "cell_type": "code",
   "execution_count": null,
   "id": "c4d30c0e",
   "metadata": {
    "hidden": true
   },
   "outputs": [],
   "source": []
  }
 ],
 "metadata": {
  "kernelspec": {
   "display_name": "Python (learn-env)",
   "language": "python",
   "name": "learn-env"
  },
  "language_info": {
   "codemirror_mode": {
    "name": "ipython",
    "version": 3
   },
   "file_extension": ".py",
   "mimetype": "text/x-python",
   "name": "python",
   "nbconvert_exporter": "python",
   "pygments_lexer": "ipython3",
   "version": "3.8.8"
  },
  "toc": {
   "base_numbering": 1,
   "nav_menu": {},
   "number_sections": true,
   "sideBar": true,
   "skip_h1_title": false,
   "title_cell": "Table of Contents",
   "title_sidebar": "Contents",
   "toc_cell": false,
   "toc_position": {
    "height": "calc(100% - 180px)",
    "left": "10px",
    "top": "150px",
    "width": "512px"
   },
   "toc_section_display": true,
   "toc_window_display": true
  }
 },
 "nbformat": 4,
 "nbformat_minor": 5
}
